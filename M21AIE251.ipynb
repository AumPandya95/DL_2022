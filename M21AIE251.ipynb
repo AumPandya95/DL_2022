{
 "cells": [
  {
   "cell_type": "code",
   "execution_count": 45,
   "metadata": {},
   "outputs": [],
   "source": [
    "import pandas as pd\n",
    "import numpy as np\n",
    "import os\n",
    "import PIL\n",
    "from pathlib import Path\n",
    "from PIL import Image\n",
    "import IPython\n",
    "from IPython.display import display\n",
    "from keras.preprocessing.image import ImageDataGenerator\n",
    "from keras.optimizers import RMSprop\n",
    "from keras.models import Sequential\n",
    "from keras.layers import Dense, Dropout, Activation, Flatten,Convolution2D, MaxPooling2D\n",
    "from keras.optimizers import RMSprop,Adam\n",
    "from keras.callbacks import ReduceLROnPlateau\n",
    "from keras.applications.inception_v3 import InceptionV3\n",
    "from keras.utils.np_utils import to_categorical\n",
    "\n",
    "        "
   ]
  },
  {
   "cell_type": "code",
   "execution_count": 6,
   "metadata": {},
   "outputs": [],
   "source": [
    "def image_to_pixel(img,maxPixel=32):\n",
    "    imScalled = img.resize((maxPixel,maxPixel))\n",
    "    img_pixel = list(imScalled.getdata())\n",
    "    return img_pixel\n",
    "\n",
    "#reading all images\n",
    "train_path = \"C:/Users/sj36580/Downloads/IIT Jodhpur/Sem 2/DL/assisgnment1/data/training\"\n",
    "validate_path = \"C:/Users/sj36580/Downloads/IIT Jodhpur/Sem 2/DL/assisgnment1/data/validation\"\n",
    "train_image_df=pd.DataFrame(columns=['category','file_path'])\n",
    "for folder in os.listdir(train_path):\n",
    "    for fileNames in os.listdir(train_path+'/'+folder):\n",
    "        row={'category':folder,'file_path':train_path+'/'+folder+'/'+fileNames}\n",
    "        train_image_df.loc[len(train_image_df.index)] = [folder,train_path+'/'+folder+'/'+fileNames]\n",
    "        \n",
    "        #IPython.display.Image(data_path+'/'+folder+'/'+fileNames)\n",
    "\n",
    "valid_image_df=pd.DataFrame(columns=['category','file_path'])\n",
    "for folder in os.listdir(validate_path):\n",
    "    for fileNames in os.listdir(validate_path+'/'+folder):\n",
    "        row={'category':folder,'file_path':validate_path+'/'+folder+'/'+fileNames}\n",
    "        valid_image_df.loc[len(valid_image_df.index)] = [folder,validate_path+'/'+folder+'/'+fileNames]\n",
    "        \n",
    "        #IPython.display.Image(data_path+'/'+folder+'/'+fileNames)\n",
    "\n"
   ]
  },
  {
   "cell_type": "code",
   "execution_count": 31,
   "metadata": {},
   "outputs": [
    {
     "name": "stdout",
     "output_type": "stream",
     "text": [
      "(500, 366)\n"
     ]
    },
    {
     "data": {
      "text/plain": [
       "array([[[172, 186, 210],\n",
       "        [170, 186, 210],\n",
       "        [168, 184, 208],\n",
       "        ...,\n",
       "        [210, 210, 211],\n",
       "        [210, 210, 211],\n",
       "        [209, 209, 211]],\n",
       "\n",
       "       [[171, 186, 209],\n",
       "        [170, 186, 208],\n",
       "        [169, 185, 207],\n",
       "        ...,\n",
       "        [211, 210, 214],\n",
       "        [210, 210, 213],\n",
       "        [209, 209, 211]],\n",
       "\n",
       "       [[170, 186, 209],\n",
       "        [170, 188, 209],\n",
       "        [170, 188, 208],\n",
       "        ...,\n",
       "        [211, 211, 213],\n",
       "        [211, 211, 213],\n",
       "        [210, 210, 211]],\n",
       "\n",
       "       ...,\n",
       "\n",
       "       [[202, 202, 201],\n",
       "        [205, 204, 201],\n",
       "        [205, 205, 201],\n",
       "        ...,\n",
       "        [178, 195, 211],\n",
       "        [177, 194, 212],\n",
       "        [177, 194, 213]],\n",
       "\n",
       "       [[202, 202, 201],\n",
       "        [203, 203, 200],\n",
       "        [204, 205, 201],\n",
       "        ...,\n",
       "        [186, 198, 209],\n",
       "        [180, 196, 209],\n",
       "        [178, 196, 210]],\n",
       "\n",
       "       [[200, 200, 202],\n",
       "        [203, 203, 202],\n",
       "        [204, 204, 202],\n",
       "        ...,\n",
       "        [195, 202, 208],\n",
       "        [189, 200, 208],\n",
       "        [185, 198, 207]]])"
      ]
     },
     "execution_count": 31,
     "metadata": {},
     "output_type": "execute_result"
    }
   ],
   "source": [
    "valid_image_df.head(1)\n",
    "img = Image.open('C:/Users/sj36580/Downloads/IIT Jodhpur/Sem 2/DL/assisgnment1/data/training/aeroplane/2007_004009.jpg')\n",
    "print(img.size)\n",
    "img\n",
    "maxPixel = 128\n",
    "imScalled = img.resize((maxPixel,maxPixel))\n",
    "img_pixel = np.reshape(list(imScalled.getdata()),(maxPixel,maxPixel,3))\n",
    "img_pixel"
   ]
  },
  {
   "cell_type": "code",
   "execution_count": 36,
   "metadata": {},
   "outputs": [
    {
     "name": "stdout",
     "output_type": "stream",
     "text": [
      "Found 83 images belonging to 2 classes.\n",
      "Found 723 images belonging to 2 classes.\n"
     ]
    }
   ],
   "source": [
    "maxPixel = 128\n",
    "train_datagen = ImageDataGenerator(rescale = 1./255., rotation_range = 40, width_shift_range = 0.2, height_shift_range = 0.2,shear_range = 0.2, zoom_range = 0.2, horizontal_flip = True)\n",
    "valid_datagen = ImageDataGenerator( rescale = 1.0/255. )\n",
    "\n",
    "train_generator = train_datagen.flow_from_directory('C:/Users/sj36580/Downloads/IIT Jodhpur/Sem 2/DL/assisgnment1/data/training/',  class_mode = 'binary', target_size = (maxPixel, maxPixel),classes=['aeroplane','others'])\n",
    "valid_generator = valid_datagen.flow_from_directory('C:/Users/sj36580/Downloads/IIT Jodhpur/Sem 2/DL/assisgnment1/data/validation/',  class_mode = 'binary', target_size = (maxPixel, maxPixel),classes=['aeroplane','others'])\n",
    "\n",
    "base_model = InceptionV3(input_shape = (maxPixel, maxPixel, 3), include_top = False, weights = 'imagenet')\n",
    "\n",
    "for layer in base_model.layers:\n",
    "    layer.trainable = False\n",
    "\n",
    "x = layers.Flatten()(base_model.output)\n",
    "x = layers.Dense(1024, activation='relu')(x)\n",
    "x = layers.Dropout(0.2)(x)\n",
    "\n",
    "# Add a final sigmoid layer with 1 node for classification output\n",
    "x = layers.Dense(1, activation='sigmoid')(x)\n",
    "\n",
    "model = keras.models.Model(base_model.input, x)\n",
    "\n",
    "model.compile(optimizer = RMSprop(lr=0.0001), loss = 'binary_crossentropy', metrics = ['acc'])"
   ]
  },
  {
   "cell_type": "code",
   "execution_count": 46,
   "metadata": {},
   "outputs": [
    {
     "data": {
      "text/plain": [
       "16384"
      ]
     },
     "execution_count": 46,
     "metadata": {},
     "output_type": "execute_result"
    }
   ],
   "source": []
  }
 ],
 "metadata": {
  "kernelspec": {
   "display_name": "Python 3.10.4 64-bit",
   "language": "python",
   "name": "python3"
  },
  "language_info": {
   "codemirror_mode": {
    "name": "ipython",
    "version": 3
   },
   "file_extension": ".py",
   "mimetype": "text/x-python",
   "name": "python",
   "nbconvert_exporter": "python",
   "pygments_lexer": "ipython3",
   "version": "3.10.4"
  },
  "orig_nbformat": 4,
  "vscode": {
   "interpreter": {
    "hash": "7a28f0cbfefa6cb02fbe4751e3ca4924b08333f24d18155855e9c7cbc1bce905"
   }
  }
 },
 "nbformat": 4,
 "nbformat_minor": 2
}
